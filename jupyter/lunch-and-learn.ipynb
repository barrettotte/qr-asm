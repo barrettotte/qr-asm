{
 "cells": [
  {
   "cell_type": "markdown",
   "metadata": {},
   "source": [
    "# Useless Information: QR Codes\n",
    "\n",
    "A brief walkthrough on how QR codes are generated.\n",
    "\n",
    "<style>\n",
    "  table, td, th {\n",
    "    border: 1px solid gray;\n",
    "  }\n",
    "  th {\n",
    "    padding-top: 5px;\n",
    "    padding-right: 10px;\n",
    "    padding-bottom: 5px;\n",
    "    padding-left: 10px;\n",
    "  }\n",
    "</style>"
   ]
  },
  {
   "cell_type": "markdown",
   "metadata": {},
   "source": [
    "## Mathematics Refresher\n",
    "\n",
    "<br>\n",
    "\n",
    "**Monomial**: $3x^2$ (single term)\n",
    "\n",
    "**Polynomial**: $4x^6+16x^4+2x^2+5x+1$ (multiple terms or monomials)\n",
    "\n",
    "<br>\n",
    "\n",
    "### Logarithms \n",
    "\n",
    "$y = \\log_b x \\implies b^y=x$\n",
    "\n",
    "Example: $\\log_2(8) = 3 \\implies 2^3=8$\n",
    "\n",
    "<br>\n",
    "\n",
    "#### Multiplication via logarithms - A trivial example with base 2\n",
    "\n",
    "$128 \\times 512 = ?$\n",
    "\n",
    "$\\log_2(128) = 7,\\; \\log_2(512) = 9$\n",
    "\n",
    "$128 \\times 512 = 2^7 \\times 2^9 = 2^{16} = 65536$\n",
    "\n",
    "<br>\n",
    "<img src=\"https://www.math.utah.edu/~alfeld/sliderules/side2half.jpg\" alt=\"A slide rule\" width=\"500\" height=\"150\"/>"
   ]
  },
  {
   "cell_type": "markdown",
   "metadata": {},
   "source": [
    "## Some Fun Facts About QR Codes\n",
    "\n",
    "(Also known as, I skimmed the wikipedia page - https://en.wikipedia.org/wiki/QR_code)\n",
    "\n",
    "- QR code -> Quick Response code\n",
    "- 1994 Masahiro Hara at Denso Wave (Japanese automotive company)\n",
    "- A matrix barcode (2D barcode) -> faster to read and stores more data\n",
    "- Error correction (Reed-Solomon) allows damaged QR Codes to still be read\n",
    "\n",
    "<br>\n",
    "\n",
    "<img src=\"https://www.thonky.com/qr-code-tutorial/hello-world-final.png\" alt=\"Hello World QR Code\" width=\"250\" height=\"250\"/>\n",
    "&nbsp;&nbsp;&nbsp;\n",
    "<img src=\"https://upload.wikimedia.org/wikipedia/commons/thumb/8/8d/QR_Code_Damaged.jpg/800px-QR_Code_Damaged.jpg\" alt=\"Damaged QR Code\" width=\"250\" height=\"250\"/>"
   ]
  },
  {
   "cell_type": "markdown",
   "metadata": {},
   "source": [
    "<hr>"
   ]
  },
  {
   "source": [
    "## Let's Make a QR Code"
   ],
   "cell_type": "markdown",
   "metadata": {}
  },
  {
   "source": [
    "### Choose an Encoding Mode\n",
    "\n",
    "| Mode         | Maximum Character (40-L) | Mode Indicator |\n",
    "| ------------ | ------------------------ | -------------- |\n",
    "| Numeric      | 7089 characters          | 0001           |\n",
    "| Alphanumeric | 4296 characters          | 0010           |\n",
    "| Byte         | 2953 characters          | 0100           |\n",
    "| Kanji        | 1817 characters          | 0111           |"
   ],
   "cell_type": "markdown",
   "metadata": {}
  },
  {
   "cell_type": "code",
   "execution_count": 5,
   "metadata": {},
   "outputs": [],
   "source": [
    "MODE_NUMERIC = 1   # 0001\n",
    "MODE_ALPHANUM = 2  # 0010\n",
    "MODE_BYTE = 4      # 0100\n",
    "MODE_KANJI = 8     # 1000"
   ]
  },
  {
   "cell_type": "code",
   "execution_count": 37,
   "metadata": {},
   "outputs": [
    {
     "output_type": "stream",
     "name": "stdout",
     "text": [
      "encoded 'https://github.com/barrettotte' to\n\n['01101000', '01110100', '01110100', '01110000', '01110011', '00111010', '00101111', '00101111', '01100111', '01101001', '01110100', '01101000', '01110101', '01100010', '00101110', '01100011', '01101111', '01101101', '00101111', '01100010', '01100001', '01110010', '01110010', '01100101', '01110100', '01110100', '01101111', '01110100', '01110100', '01100101']\n\nsize: 30 byte(s)\nmode: 0100\n"
     ]
    }
   ],
   "source": [
    "# Declare payload and encode it (byte mode)\n",
    "\n",
    "# UTF-8 encode -> hex bytes -> 8-bit binary\n",
    "def encode_byte_mode(s):\n",
    "    as_hex = [c.encode('utf-8').hex() for c in s]\n",
    "    return [bin(int(byte, 16))[2:].zfill(8) for byte in as_hex]\n",
    "\n",
    "# convert integer to bits\n",
    "def int_to_bits(i, word_size):\n",
    "    return bin(int(hex(i), 16))[2:].zfill(word_size)\n",
    "\n",
    "payload = 'https://github.com/barrettotte'\n",
    "encoded = encode_byte_mode(payload)\n",
    "encoded_len = len(encoded)\n",
    "mode = int_to_bits(MODE_BYTE, 4)\n",
    "\n",
    "print(f\"encoded '{payload}' to\\n\\n{encoded}\\n\\nsize: {encoded_len} byte(s)\")\n",
    "print(f'mode: {mode}')"
   ]
  },
  {
   "source": [
    "### Choose an Error Correction Level\n",
    "\n",
    "Higher error correction, less character capacity\n",
    "\n",
    "| Level | Name     | Recovery | Level Indicator |\n",
    "| ----- | -------- | -------- | --------------- |\n",
    "| L     | Low      | 7%       | 01              |\n",
    "| M     | Medium   | 15%      | 00              |\n",
    "| Q     | Quartile | 25%      | 11              |\n",
    "| H     |  High    | 30%      | 10              |"
   ],
   "cell_type": "markdown",
   "metadata": {}
  },
  {
   "cell_type": "code",
   "execution_count": 20,
   "metadata": {},
   "outputs": [],
   "source": [
    "ERROR_L = 1  # 01\n",
    "ERROR_M = 0  # 00\n",
    "ERROR_Q = 3  # 11\n",
    "ERROR_H = 2  # 10\n",
    "\n",
    "err_lvl = ERROR_Q"
   ]
  },
  {
   "source": [
    "### Find the Version\n",
    "\n",
    "Versions 1-40, select smallest possible!\n",
    "\n",
    "| Version + Error Correction Level | Numeric | Alphanumeric | Byte | Kanji |\n",
    "| -------------------------------- | ------- | ------------ | ---- | ----- |\n",
    "| 1-L                              | 41      | 25           | 17   | 10    |\n",
    "| 1-M                              | 34      | 20           | 14   | 8     |\n",
    "| 1-Q                              | 27      | 16           | 11   | 7     |\n",
    "| 1-H                              | 17      | 10           | 7    | 4     |\n",
    "| ...                              | ...     | ...          | ...  | ...   |\n",
    "| 3-L                              | 127     | 77           | 53   | 32    |\n",
    "| 3-M                              | 101     | 61           | 42   | 26    |\n",
    "| 3-Q                              | 77      | 47           | 32   | 20    |\n",
    "| 3-H                              | 58      | 35           | 24   | 15    |\n",
    "| ...                              | ...     | ...          | ...  | ...   |\n",
    "| 40-L                             | 7089    | 4296         | 2953 | 1817  |\n",
    "| 40-M                             | 5596    | 3391         | 2331 | 1435  |\n",
    "| 40-Q                             | 3993    | 2420         | 1663 | 1024  |\n",
    "| 40-H                             | 3057    | 1852         | 1273 | 784   |\n"
   ],
   "cell_type": "markdown",
   "metadata": {}
  },
  {
   "cell_type": "code",
   "execution_count": 17,
   "metadata": {},
   "outputs": [],
   "source": [
    "# trimmed down version of capacity table\n",
    "BYTE_MODE_CAPACITY_LOOKUP = [\n",
    "    # L, M, Q, H\n",
    "    [0, 0, 0, 0],       # (one-indexing)\n",
    "    [17, 14, 11, 7],    # 1\n",
    "    [32, 26, 20, 14],   # 2\n",
    "    [53, 42, 32, 24],   # 3\n",
    "    [78, 62, 46, 34],   # 4\n",
    "    [106, 84, 60, 44],  # 5\n",
    "    # and so on...to 40\n",
    "]\n",
    "\n",
    "# fixes issue with LMQH ordering\n",
    "ERROR_IDX_TO_LOOKUP = [1, 0, 3, 2]"
   ]
  },
  {
   "cell_type": "code",
   "execution_count": 22,
   "metadata": {},
   "outputs": [],
   "source": [
    "# find version to use based on payload size and error correction\n",
    "def get_version(size, err_lvl):\n",
    "    err_idx = ERROR_IDX_TO_LOOKUP[err_lvl]\n",
    "    for col, row in enumerate(BYTE_MODE_CAPACITY_LOOKUP):\n",
    "        if row[err_idx] > size:\n",
    "            return col\n",
    "    raise Exception(\"couldn't find version\")\n",
    "\n",
    "# find smallest version for our payload\n",
    "version = get_version(encoded_len, err_lvl)\n",
    "assert version == 3  # should be using a 3-Q configuration\n"
   ]
  },
  {
   "source": [
    "### Fetch Error Correction Configuration\n",
    "\n",
    "The scheme used to break up our encoded bytes into groups/blocks to run through error correction."
   ],
   "cell_type": "markdown",
   "metadata": {}
  },
  {
   "cell_type": "code",
   "execution_count": 25,
   "metadata": {},
   "outputs": [],
   "source": [
    "EC_CONFIG_LOOKUP = [\n",
    "    [],  # L                      M                       Q                    H\n",
    "    [[19, 7, 1, 19, 0, 0], [16, 10, 1, 16, 0, 0], [13, 13, 1, 13, 0, 0], [9, 17, 1, 9, 0, 0]],         # 1\n",
    "    [[34, 10, 1, 34, 0, 0], [28, 16, 1, 28, 0, 0], [22, 22, 1, 22, 0, 0], [16, 28, 1, 16, 0, 0]],      # 2\n",
    "    [[55, 15, 1, 55, 0, 0], [44, 26, 1, 44, 0, 0], [34, 18, 2, 17, 0, 0], [26, 22, 2, 13, 0, 0]],      # 3\n",
    "    [[80, 20, 1, 80, 0, 0], [64, 18, 2, 32, 0, 0], [48, 26, 2, 24, 0, 0], [36, 16, 4, 9, 0, 0]],       # 4\n",
    "    [[108, 26, 1, 108, 0, 0], [86, 24, 2, 43, 0, 0], [62, 18, 2, 15, 2, 16], [46, 22, 2, 11, 2, 12]],  # 5\n",
    "    # and so on...to 40\n",
    "]"
   ]
  },
  {
   "cell_type": "code",
   "execution_count": 55,
   "metadata": {},
   "outputs": [
    {
     "output_type": "stream",
     "name": "stdout",
     "text": [
      "error correction config:\n  Total data words                           = 34\n  Error correction words per block           = 18\n  Number of blocks in group 1                = 2\n  Number of data words in each group 1 block = 17\n  Number of blocks in group 2                = 0\n  Number of data words in each group 2 block = 0\n"
     ]
    }
   ],
   "source": [
    "def get_ec_config(version, err_lvl):\n",
    "    return EC_CONFIG_LOOKUP[version][ERROR_IDX_TO_LOOKUP[err_lvl]]\n",
    "\n",
    "# fetch error correction configuration\n",
    "ec_config = get_ec_config(version, err_lvl)\n",
    "\n",
    "print('error correction config:')\n",
    "print(f'  Total data words                           = {capacity}')\n",
    "print(f'  Error correction words per block           = {ec_config[1]}')\n",
    "print(f'  Number of blocks in group 1                = {ec_config[2]}')\n",
    "print(f'  Number of data words in each group 1 block = {ec_config[3]}')\n",
    "print(f'  Number of blocks in group 2                = {ec_config[4]}')\n",
    "print(f'  Number of data words in each group 2 block = {ec_config[5]}')"
   ]
  },
  {
   "cell_type": "markdown",
   "metadata": {},
   "source": [
    "## Fetch Character Count Indicator\n",
    "\n",
    "Depending on version and encoding mode, the payload size will need to take up more bits.\n",
    "\n",
    "| Version Range | Numeric | Alphanumeric | Byte    | Kanji   |\n",
    "| ------------- | ------- | ------------ | ------- | ------- |\n",
    "| 1-9           | 10 bits | 9 bits       | 8 bits  | 8 bits  |\n",
    "| 10-26         | 12 bits | 11 bits      | 16 bits | 10 bits |\n",
    "| 27-40         | 14 bits | 13 bits      | 16 bits | 12 bits |"
   ]
  },
  {
   "cell_type": "code",
   "execution_count": 43,
   "metadata": {},
   "outputs": [
    {
     "output_type": "stream",
     "name": "stdout",
     "text": [
      "size: 30 byte(s) - char count: 00011110\nversion 3 with max capacity of 34 byte(s) or 272 bit(s)\n"
     ]
    }
   ],
   "source": [
    "# is test between low and high (inclusive)?\n",
    "def is_between(low, high, test):\n",
    "    return test >= low and test <= high\n",
    "\n",
    "# determine character count indicator\n",
    "def get_count(size, version, mode):\n",
    "    if int(mode, 2) == MODE_BYTE:\n",
    "        if is_between(1, 9, version):\n",
    "            word_size = 8\n",
    "        elif is_between(10, 26, version):\n",
    "            word_size = 16\n",
    "        elif is_between(27, 40, version):\n",
    "            word_size = 16\n",
    "        else:\n",
    "            raise Exception(\"Invalid version\")\n",
    "    else:\n",
    "        raise Exception(\"Only byte mode implemented!\")\n",
    "    return int_to_bits(size, word_size)\n",
    "\n",
    "\n",
    "count = get_count(encoded_len, version, mode)\n",
    "capacity = ec_config[0]\n",
    "capacity_bits = capacity * 8\n",
    "\n",
    "print(f\"size: {encoded_len} byte(s) - char count: {count}\")\n",
    "print(f\"version {version} with max capacity of {capacity} byte(s)\", end='')\n",
    "print(f\" or {capacity_bits} bit(s)\")"
   ]
  },
  {
   "source": [
    "## Pad the Payload\n",
    "\n",
    "Before feeding the encoded payload into the error correction algorithm, it needs to be byte/bit padded."
   ],
   "cell_type": "markdown",
   "metadata": {}
  },
  {
   "cell_type": "code",
   "execution_count": 48,
   "metadata": {},
   "outputs": [
    {
     "output_type": "stream",
     "name": "stdout",
     "text": [
      "before padding: 252 bit(s) => 31 byte(s), 4 bit(s)\nafter padding:  272 bit(s) => 34 byte(s), 0 bit(s)\nseg: 41E68747470733A2F2F6769746875622E636F6D2F626172726574746F7474650EC11\n"
     ]
    }
   ],
   "source": [
    "# utility to build string of byte/bit size\n",
    "def byte_size_str(d):\n",
    "    size = len(d)\n",
    "    return f\"{size} bit(s) => {size // 8} byte(s), {size % 8} bit(s)\"\n",
    "\n",
    "seg = mode + count + ''.join(encoded)\n",
    "print('before padding: ' + byte_size_str(seg))\n",
    "\n",
    "# Add terminator of zeros up to four bits (if there is room)\n",
    "terminal_bits = 0\n",
    "while terminal_bits < 4 and len(seg) < capacity_bits:\n",
    "    seg += '0'\n",
    "    terminal_bits += 1\n",
    "\n",
    "# pad bits to nearest byte\n",
    "while len(seg) % 8 != 0 and len(seg) < capacity_bits:\n",
    "    seg += '0'\n",
    "\n",
    "# pad bytes to full capacity (alternating 0xEC and 0x11)\n",
    "use_EC = True\n",
    "while len(seg) < capacity_bits:\n",
    "    seg += int_to_bits(int(0xEC), 8) if use_EC else int_to_bits(int(0x11), 8)\n",
    "    use_EC = not use_EC\n",
    "\n",
    "print(f'after padding:  {byte_size_str(seg)}')\n",
    "print(\"seg: {0:0>4X}\".format(int(seg, 2)))\n",
    "\n",
    "assert len(seg) == capacity_bits"
   ]
  },
  {
   "source": [
    "## Split the Payload\n",
    "\n",
    "Using error correction configuration, split the payload into groups and blocks"
   ],
   "cell_type": "markdown",
   "metadata": {}
  },
  {
   "cell_type": "code",
   "execution_count": 68,
   "metadata": {},
   "outputs": [
    {
     "output_type": "stream",
     "name": "stdout",
     "text": [
      "total word(s) = 34\n\nerror correction config:\n  Total data words                           = 34\n  Error correction words per block           = 18\n  Number of blocks in group 1                = 2\n  Number of data words in each group 1 block = 17\n  Number of blocks in group 2                = 0\n  Number of data words in each group 2 block = 0\n\ngroup 1 blocks:\n\nblock 0: ['01000001', '11100110', '10000111', '01000111', '01000111', '00000111', '00110011', '10100010', '11110010', '11110110', '01110110', '10010111', '01000110', '10000111', '01010110', '00100010', '11100110']\n\nblock 1: ['00110110', '11110110', '11010010', '11110110', '00100110', '00010111', '00100111', '00100110', '01010111', '01000111', '01000110', '11110111', '01000111', '01000110', '01010000', '11101100', '00010001']\n\ngroup 2 blocks:\n"
     ]
    }
   ],
   "source": [
    "# split segment into words (bytes)\n",
    "code_words = [seg[i: i + 8] for i in range(0, len(seg), 8)]\n",
    "print(f'total word(s) = {len(code_words)}')\n",
    "\n",
    "g1_blocks = []  # only two groups\n",
    "g2_blocks = []  # so we can be lazy\n",
    "\n",
    "ecw_per_block = ec_config[1]\n",
    "g1_block_count = ec_config[2]\n",
    "g1_data_block_size = ec_config[3]\n",
    "g2_block_count = ec_config[4]\n",
    "g2_data_block_size = ec_config[5]\n",
    "\n",
    "print('\\nerror correction config:')\n",
    "print(f'  Total data words                           = {capacity}')\n",
    "print(f'  Error correction words per block           = {ecw_per_block}')\n",
    "print(f'  Number of blocks in group 1                = {g1_block_count}')\n",
    "print(f'  Number of data words in each group 1 block = {g1_data_block_size}')\n",
    "print(f'  Number of blocks in group 2                = {g2_block_count}')\n",
    "print(f'  Number of data words in each group 2 block = {g2_data_block_size}')\n",
    "print('')\n",
    "\n",
    "# build group 1\n",
    "cw_idx = 0\n",
    "while len(g1_blocks) < g1_block_count:\n",
    "    to_idx = g1_data_block_size * (len(g1_blocks) + 1)\n",
    "    g1_blocks.append(code_words[cw_idx: to_idx])\n",
    "    cw_idx += g1_data_block_size\n",
    "assert len(g1_blocks) == g1_block_count\n",
    "\n",
    "print(f'group 1 blocks:')\n",
    "for i, b in enumerate(g1_blocks):\n",
    "    print(f'\\nblock {i}: {b}')\n",
    "\n",
    "# build group 2\n",
    "g2_offset = cw_idx\n",
    "while len(g2_blocks) < g2_block_count:\n",
    "    to_idx = (g2_data_block_size * (len(g2_blocks) + 1)) + g2_offset\n",
    "    g2_blocks.append(code_words[cw_idx:to_idx])\n",
    "    cw_idx += g2_data_block_size\n",
    "assert len(g2_blocks) == g2_block_count\n",
    "\n",
    "print(f'\\ngroup 2 blocks:')\n",
    "for i, b in enumerate(g2_blocks):\n",
    "    print(f'\\nblock {i}: {b}')"
   ]
  },
  {
   "source": [
    "### Reed-Solomon Error Correction\n",
    "\n",
    "An error correction algorithm to allow a damaged payload to still get read correctly."
   ],
   "cell_type": "markdown",
   "metadata": {}
  },
  {
   "source": [
    "#### A Very High Level Overview of Galois Fields\n",
    "\n",
    "A Galois or finite field is a field consisting of a finite amount of elements.\n",
    "\n",
    "A finite field with $p^n$ elements is given by $\\text{GF}(p^n)$, where $p$ is a prime number.\n",
    "\n",
    "Think of a wagon wheel with $p^n$ spokes.\n",
    "\n",
    "When $p$ is 2, we can start thinking in binary.\n",
    "$\\text{GF}(2^3) = (0,1,2,3,4,5,6,7)$\n",
    "\n",
    "- $\\text{GF}(8)[0] = 0(2^2) + 0(2^1) + 0(2^0) = 000$\n",
    "- $\\text{GF}(8)[1] = 0(2^2) + 0(2^1) + 1(2^0) = 001$\n",
    "- $\\text{GF}(8)[2] = 0(2^2) + 1(2^1) + 0(2^0) = 010$\n",
    "- $\\text{GF}(8)[3] = 0(2^2) + 1(2^1) + 1(2^0) = 011$\n",
    "- $\\text{GF}(8)[4] = 1(2^2) + 0(2^1) + 0(2^0) = 100$\n",
    "- $\\text{GF}(8)[5] = 1(2^2) + 0(2^1) + 1(2^0) = 101$\n",
    "- $\\text{GF}(8)[6] = 1(2^2) + 1(2^1) + 0(2^0) = 110$\n",
    "- $\\text{GF}(8)[7] = 1(2^2) + 1(2^1) + 1(2^0) = 111$\n",
    "\n",
    "So, any binary number can be represented as a polynomial and vice versa.\n",
    "\n",
    "$10011100 = 1x^7 + 0x^6 + 0x^5 + 1x^4 + 1x^3 + 1x^2 + 0x^1 + 0x^0 = x^7+x^4+x^3+x^2$\n",
    "\n",
    "<br>\n",
    "\n",
    "Finite fields are used in cryptography algorithms since they allow bytes to be easily \n",
    "and rapidly scrambled using polynomial arithmetic.\n",
    "\n",
    "Reed-Solomon error correction uses $\\text{GF}(2^8) = \\text{GF}(256)$."
   ],
   "cell_type": "markdown",
   "metadata": {}
  },
  {
   "source": [
    "#### Finite Field Arithmetic in $\\text{GF}(256)$\n",
    "\n",
    "<br>\n",
    "\n",
    "**Addition and subtraction**:\n",
    "\n",
    "$(x^6+x^4+x+1) + (x^7+x^6+x^3+x) = x^7+x^4+x^3+1$\n",
    "\n",
    "$01010011 + 11001010 = 10011001 \\implies \\text{XOR}$\n",
    "\n",
    "Think of a wagon wheel.\n",
    "\n",
    "<br>\n",
    "\n",
    "**Multiplication**:\n",
    "\n",
    "I cheat and use a lookup table. But, the algorithm is called [Russian peasant multiplication](https://en.wikipedia.org/wiki/Ancient_Egyptian_multiplication#Russian_peasant_multiplication) which is actually a special case of the algorithm\n",
    "used in ancient Egyptian multiplication.\n",
    "\n",
    "<br>\n",
    "\n",
    "This is already too in the weeds, so let's go back to code."
   ],
   "cell_type": "markdown",
   "metadata": {}
  },
  {
   "cell_type": "code",
   "execution_count": null,
   "metadata": {},
   "outputs": [],
   "source": []
  }
 ],
 "metadata": {
  "interpreter": {
   "hash": "ed225720166559e7176d3793db16a2fd8d295f725007103b21ac3099d2a89ee8"
  },
  "kernelspec": {
   "name": "python3",
   "display_name": "Python 3.7.1 64-bit ('base': conda)"
  },
  "language_info": {
   "codemirror_mode": {
    "name": "ipython",
    "version": 3
   },
   "file_extension": ".py",
   "mimetype": "text/x-python",
   "name": "python",
   "nbconvert_exporter": "python",
   "pygments_lexer": "ipython3",
   "version": "3.7.1"
  }
 },
 "nbformat": 4,
 "nbformat_minor": 2
}